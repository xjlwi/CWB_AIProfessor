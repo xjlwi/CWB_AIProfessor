{
 "cells": [
  {
   "cell_type": "markdown",
   "metadata": {},
   "source": [
    "# Topic Modelling\n",
    "\n",
    "topic models automatically summarize large collections of documents to facilitate organization and management as well as search and recommendations.\n",
    "Enables understanding of documents, to extent that the humans can interpret description of topics\n",
    "TM mitigates <b>curse of dimensionality</b>; BOW often sparse vectors, thus resulting similiarity measure noisy. \n",
    "\n",
    "Initial topic modelling - applied linear algebra to reduce dimensionality (DTM). While effective, it is difficulat to evaluate the results of these models without benchmark model. In response, probabilistic models emerged that assume <b>an explicit document generation process and provide algorithms to reverse engineer this process to uncover the underlying topics </b>.\n",
    "\n",
    "Example of models:\n",
    "<li> Latent semantic indexing \n",
    "<li> Probabilistic latent semantic analysis (p-SLA) \n",
    "<li> Latent Dirichlet allocation (LDA)\n",
    "\n",
    "![topic modelling](https://miro.medium.com/max/4800/1*cDwKSHmfp5awjqjobV707g.png)"
   ]
  },
  {
   "cell_type": "markdown",
   "metadata": {},
   "source": [
    "## Latent Semantic Indexing\n",
    "Goal to model relationship between documents and terms so that it could predict that a term should be associated with a document even though, because of the variability in word use, no such association is observed.\n",
    "LSI uses linear algebra to find a given number k of latent topics by decomposing the DTM. Uses <b>singular value decomposition</b> , find the best lower-rank DTM approximation using k singular values and vectors. "
   ]
  },
  {
   "cell_type": "markdown",
   "metadata": {},
   "source": [
    "Implementation example with `sklearn`\n",
    "\n",
    "Steps:\n",
    "1. creating a train and (stratified) test set with 50\n",
    "articles. \n",
    "2. we vectorize the data using TfidfVectorizer to obtain weighted DTM counts"
   ]
  },
  {
   "cell_type": "code",
   "execution_count": 1,
   "metadata": {},
   "outputs": [],
   "source": [
    "import warnings\n",
    "warnings.filterwarnings('ignore')"
   ]
  },
  {
   "cell_type": "code",
   "execution_count": 2,
   "metadata": {},
   "outputs": [],
   "source": [
    "%matplotlib inline\n",
    "\n",
    "from pathlib import Path\n",
    "from random import randint\n",
    "import numpy as np\n",
    "import pandas as pd\n",
    "\n",
    "# sklearn for feature extraction & modeling\n",
    "from sklearn.feature_extraction.text import TfidfVectorizer\n",
    "from sklearn.decomposition import TruncatedSVD, PCA\n",
    "from sklearn.model_selection import train_test_split\n",
    "\n",
    "# Visualization\n",
    "import matplotlib.pyplot as plt\n",
    "import seaborn as sns\n",
    "sns.set_style('white')"
   ]
  },
  {
   "cell_type": "code",
   "execution_count": 3,
   "metadata": {},
   "outputs": [],
   "source": [
    "DATA_DIR = Path('../data/01_raw/')\n",
    "path = DATA_DIR / 'bbc'\n",
    "files = sorted(list(path.glob('**/*.txt')))\n",
    "doc_list = []\n",
    "for i, file in enumerate(files):\n",
    "    with open(str(file), encoding='latin1') as f:\n",
    "        topic = file.parts[-2]\n",
    "        lines = f.readlines()\n",
    "        heading = lines[0].strip()\n",
    "        body = ' '.join([l.strip() for l in lines[1:]])\n",
    "        doc_list.append([topic.capitalize(), heading, body])"
   ]
  },
  {
   "cell_type": "code",
   "execution_count": 5,
   "metadata": {},
   "outputs": [
    {
     "name": "stdout",
     "output_type": "stream",
     "text": [
      "<class 'pandas.core.frame.DataFrame'>\n",
      "Int64Index: 2225 entries, 0 to 2225\n",
      "Data columns (total 3 columns):\n",
      " #   Column    Non-Null Count  Dtype \n",
      "---  ------    --------------  ----- \n",
      " 0   Category  2225 non-null   object\n",
      " 1   Heading   2225 non-null   object\n",
      " 2   Article   2225 non-null   object\n",
      "dtypes: object(3)\n",
      "memory usage: 69.5+ KB\n"
     ]
    }
   ],
   "source": [
    "# Convert to dataframe\n",
    "docs = pd.DataFrame(doc_list, columns=['Category', 'Heading', 'Article'])\n",
    "docs = docs[docs['Category'] != 'Bbc']\n",
    "docs.info()"
   ]
  },
  {
   "cell_type": "code",
   "execution_count": 6,
   "metadata": {},
   "outputs": [
    {
     "data": {
      "text/plain": [
       "Sport            511\n",
       "Business         510\n",
       "Politics         417\n",
       "Tech             401\n",
       "Entertainment    386\n",
       "Name: Category, dtype: int64"
      ]
     },
     "execution_count": 6,
     "metadata": {},
     "output_type": "execute_result"
    }
   ],
   "source": [
    "docs.Category.value_counts()"
   ]
  },
  {
   "cell_type": "markdown",
   "metadata": {},
   "source": [
    "Create Train Test"
   ]
  },
  {
   "cell_type": "code",
   "execution_count": 7,
   "metadata": {},
   "outputs": [],
   "source": [
    "train_docs, test_docs = train_test_split(docs,\n",
    "                                         stratify=docs.Category,\n",
    "                                         test_size=50,\n",
    "                                         random_state=42)"
   ]
  },
  {
   "cell_type": "code",
   "execution_count": 8,
   "metadata": {},
   "outputs": [
    {
     "data": {
      "text/plain": [
       "((2175, 3), (50, 3))"
      ]
     },
     "execution_count": 8,
     "metadata": {},
     "output_type": "execute_result"
    }
   ],
   "source": [
    "train_docs.shape, test_docs.shape"
   ]
  },
  {
   "cell_type": "code",
   "execution_count": 9,
   "metadata": {},
   "outputs": [
    {
     "data": {
      "text/plain": [
       "Sport            12\n",
       "Business         11\n",
       "Entertainment     9\n",
       "Politics          9\n",
       "Tech              9\n",
       "Name: Category, dtype: int64"
      ]
     },
     "execution_count": 9,
     "metadata": {},
     "output_type": "execute_result"
    }
   ],
   "source": [
    "pd.Series(test_docs.Category).value_counts()"
   ]
  },
  {
   "cell_type": "markdown",
   "metadata": {},
   "source": [
    "Vectorise train and test set"
   ]
  },
  {
   "cell_type": "code",
   "execution_count": 10,
   "metadata": {},
   "outputs": [
    {
     "data": {
      "text/plain": [
       "<2175x2917 sparse matrix of type '<class 'numpy.float64'>'\n",
       "\twith 210043 stored elements in Compressed Sparse Row format>"
      ]
     },
     "execution_count": 10,
     "metadata": {},
     "output_type": "execute_result"
    }
   ],
   "source": [
    "vectorizer = TfidfVectorizer(max_df=.25,\n",
    "                             min_df=.01,\n",
    "                             stop_words='english',\n",
    "                             binary=False)\n",
    "train_dtm = vectorizer.fit_transform(train_docs.Article)\n",
    "train_dtm"
   ]
  },
  {
   "cell_type": "code",
   "execution_count": 11,
   "metadata": {},
   "outputs": [
    {
     "data": {
      "text/plain": [
       "<50x2917 sparse matrix of type '<class 'numpy.float64'>'\n",
       "\twith 4758 stored elements in Compressed Sparse Row format>"
      ]
     },
     "execution_count": 11,
     "metadata": {},
     "output_type": "execute_result"
    }
   ],
   "source": [
    "test_dtm = vectorizer.transform(test_docs.Article)\n",
    "test_dtm"
   ]
  },
  {
   "cell_type": "markdown",
   "metadata": {},
   "source": [
    "Get token count"
   ]
  },
  {
   "cell_type": "code",
   "execution_count": 12,
   "metadata": {},
   "outputs": [
    {
     "data": {
      "text/plain": [
       "film          41.256270\n",
       "government    38.808175\n",
       "game          36.319726\n",
       "best          36.093477\n",
       "uk            36.082515\n",
       "labour        32.496474\n",
       "music         30.706548\n",
       "000           30.276350\n",
       "company       29.549555\n",
       "number        29.153795\n",
       "dtype: float64"
      ]
     },
     "execution_count": 12,
     "metadata": {},
     "output_type": "execute_result"
    }
   ],
   "source": [
    "train_token_count = train_dtm.sum(0).A.squeeze()\n",
    "tokens = vectorizer.get_feature_names()\n",
    "word_count = pd.Series(train_token_count,\n",
    "                       index=tokens).sort_values(ascending=False)\n",
    "word_count.head(10)"
   ]
  },
  {
   "cell_type": "markdown",
   "metadata": {},
   "source": [
    "## Latent Semantic Analysis\n",
    "\n",
    "Using sklearn’s TruncatedSVD class that only computes the <u>k largest singular values</u> to reduce the dimensionality of the <u>document-term matrix</u>. The deterministic arpack algorithm delivers an exact solution but the default ‘randomized’ implementation is more efficient for large matrices.\n",
    "\n",
    "We compute five topics to match the five categories, which explain only 5.4% of the total DTM variance so higher values would be reasonable."
   ]
  },
  {
   "cell_type": "code",
   "execution_count": 13,
   "metadata": {},
   "outputs": [],
   "source": [
    "n_components = 5\n",
    "topic_labels = ['Topic {}'.format(i) for i in range(1, n_components + 1)]"
   ]
  },
  {
   "cell_type": "code",
   "execution_count": 14,
   "metadata": {},
   "outputs": [
    {
     "data": {
      "text/plain": [
       "TruncatedSVD(n_components=5, random_state=42)"
      ]
     },
     "execution_count": 14,
     "metadata": {},
     "output_type": "execute_result"
    }
   ],
   "source": [
    "svd = TruncatedSVD(n_components=n_components, n_iter=5, random_state=42)\n",
    "svd.fit(train_dtm)"
   ]
  },
  {
   "cell_type": "code",
   "execution_count": 15,
   "metadata": {},
   "outputs": [
    {
     "data": {
      "text/plain": [
       "array([8.909, 5.718, 5.382, 5.044, 4.714])"
      ]
     },
     "execution_count": 15,
     "metadata": {},
     "output_type": "execute_result"
    }
   ],
   "source": [
    "svd.singular_values_.round(3)"
   ]
  },
  {
   "cell_type": "code",
   "execution_count": 16,
   "metadata": {},
   "outputs": [
    {
     "data": {
      "text/plain": [
       "0.054"
      ]
     },
     "execution_count": 16,
     "metadata": {},
     "output_type": "execute_result"
    }
   ],
   "source": [
    "svd.explained_variance_ratio_.sum().round(3)"
   ]
  },
  {
   "cell_type": "markdown",
   "metadata": {},
   "source": [
    "Explore topics"
   ]
  },
  {
   "cell_type": "markdown",
   "metadata": {},
   "source": [
    "LSI identifies a new orthogonal basis for the <u>document-term matrix</u> that reduces the rank to the number of desired topics.\n",
    "\n",
    "The `.transform()` method of the trained svd object projects the documents into the new topic space that is the result of reducing the dimensionality of the document vectors and corresponds to the UTΣT transformation explained in the book."
   ]
  },
  {
   "cell_type": "code",
   "execution_count": 17,
   "metadata": {},
   "outputs": [
    {
     "data": {
      "text/plain": [
       "(2175, 5)"
      ]
     },
     "execution_count": 17,
     "metadata": {},
     "output_type": "execute_result"
    }
   ],
   "source": [
    "train_doc_topics = svd.transform(train_dtm)\n",
    "train_doc_topics.shape"
   ]
  },
  {
   "cell_type": "markdown",
   "metadata": {},
   "source": [
    "Topic Weights for sample article\n",
    "\n",
    "We can sample an article to view its location in the topic space. We draw a 'Politics' article that is most (positively) associated with topics 1 and 3:"
   ]
  },
  {
   "cell_type": "code",
   "execution_count": 18,
   "metadata": {},
   "outputs": [
    {
     "data": {
      "text/plain": [
       "Category                       Entertainment\n",
       "Heading     Oscar host Rock to keep it clean\n",
       "Topic 1                             0.147814\n",
       "Topic 2                            -0.118066\n",
       "Topic 3                            -0.007938\n",
       "Topic 4                             0.248766\n",
       "Topic 5                            -0.024216\n",
       "dtype: object"
      ]
     },
     "execution_count": 18,
     "metadata": {},
     "output_type": "execute_result"
    }
   ],
   "source": [
    "i = randint(0, len(train_docs)) #not replicable.\n",
    "(train_docs.iloc[i, :2].append(\n",
    "    pd.Series(train_doc_topics[i], index=topic_labels)))"
   ]
  },
  {
   "cell_type": "markdown",
   "metadata": {},
   "source": [
    "Average topic weight per category\n"
   ]
  },
  {
   "cell_type": "code",
   "execution_count": 19,
   "metadata": {},
   "outputs": [
    {
     "data": {
      "text/html": [
       "<div>\n",
       "<style scoped>\n",
       "    .dataframe tbody tr th:only-of-type {\n",
       "        vertical-align: middle;\n",
       "    }\n",
       "\n",
       "    .dataframe tbody tr th {\n",
       "        vertical-align: top;\n",
       "    }\n",
       "\n",
       "    .dataframe thead th {\n",
       "        text-align: right;\n",
       "    }\n",
       "</style>\n",
       "<table border=\"1\" class=\"dataframe\">\n",
       "  <thead>\n",
       "    <tr style=\"text-align: right;\">\n",
       "      <th></th>\n",
       "      <th>Topic 1</th>\n",
       "      <th>Topic 2</th>\n",
       "      <th>Topic 3</th>\n",
       "      <th>Topic 4</th>\n",
       "      <th>Topic 5</th>\n",
       "    </tr>\n",
       "    <tr>\n",
       "      <th>Category</th>\n",
       "      <th></th>\n",
       "      <th></th>\n",
       "      <th></th>\n",
       "      <th></th>\n",
       "      <th></th>\n",
       "    </tr>\n",
       "  </thead>\n",
       "  <tbody>\n",
       "    <tr>\n",
       "      <th>Entertainment</th>\n",
       "      <td>0.139</td>\n",
       "      <td>-0.072</td>\n",
       "      <td>-0.011</td>\n",
       "      <td>0.162</td>\n",
       "      <td>-0.019</td>\n",
       "    </tr>\n",
       "    <tr>\n",
       "      <th>Tech</th>\n",
       "      <td>0.161</td>\n",
       "      <td>0.035</td>\n",
       "      <td>-0.100</td>\n",
       "      <td>-0.028</td>\n",
       "      <td>0.176</td>\n",
       "    </tr>\n",
       "    <tr>\n",
       "      <th>Entertainment</th>\n",
       "      <td>0.138</td>\n",
       "      <td>-0.065</td>\n",
       "      <td>0.001</td>\n",
       "      <td>0.098</td>\n",
       "      <td>-0.046</td>\n",
       "    </tr>\n",
       "    <tr>\n",
       "      <th>Business</th>\n",
       "      <td>0.185</td>\n",
       "      <td>0.058</td>\n",
       "      <td>-0.078</td>\n",
       "      <td>-0.045</td>\n",
       "      <td>-0.092</td>\n",
       "    </tr>\n",
       "    <tr>\n",
       "      <th>Sport</th>\n",
       "      <td>0.170</td>\n",
       "      <td>-0.116</td>\n",
       "      <td>0.075</td>\n",
       "      <td>-0.034</td>\n",
       "      <td>-0.053</td>\n",
       "    </tr>\n",
       "    <tr>\n",
       "      <th>...</th>\n",
       "      <td>...</td>\n",
       "      <td>...</td>\n",
       "      <td>...</td>\n",
       "      <td>...</td>\n",
       "      <td>...</td>\n",
       "    </tr>\n",
       "    <tr>\n",
       "      <th>Politics</th>\n",
       "      <td>0.299</td>\n",
       "      <td>0.296</td>\n",
       "      <td>0.340</td>\n",
       "      <td>0.086</td>\n",
       "      <td>0.097</td>\n",
       "    </tr>\n",
       "    <tr>\n",
       "      <th>Politics</th>\n",
       "      <td>0.220</td>\n",
       "      <td>0.133</td>\n",
       "      <td>0.073</td>\n",
       "      <td>0.042</td>\n",
       "      <td>0.041</td>\n",
       "    </tr>\n",
       "    <tr>\n",
       "      <th>Sport</th>\n",
       "      <td>0.124</td>\n",
       "      <td>-0.117</td>\n",
       "      <td>0.066</td>\n",
       "      <td>-0.069</td>\n",
       "      <td>-0.055</td>\n",
       "    </tr>\n",
       "    <tr>\n",
       "      <th>Entertainment</th>\n",
       "      <td>0.155</td>\n",
       "      <td>-0.073</td>\n",
       "      <td>-0.016</td>\n",
       "      <td>0.068</td>\n",
       "      <td>0.024</td>\n",
       "    </tr>\n",
       "    <tr>\n",
       "      <th>Politics</th>\n",
       "      <td>0.112</td>\n",
       "      <td>0.012</td>\n",
       "      <td>0.036</td>\n",
       "      <td>0.001</td>\n",
       "      <td>0.016</td>\n",
       "    </tr>\n",
       "  </tbody>\n",
       "</table>\n",
       "<p>2175 rows × 5 columns</p>\n",
       "</div>"
      ],
      "text/plain": [
       "               Topic 1  Topic 2  Topic 3  Topic 4  Topic 5\n",
       "Category                                                  \n",
       "Entertainment    0.139   -0.072   -0.011    0.162   -0.019\n",
       "Tech             0.161    0.035   -0.100   -0.028    0.176\n",
       "Entertainment    0.138   -0.065    0.001    0.098   -0.046\n",
       "Business         0.185    0.058   -0.078   -0.045   -0.092\n",
       "Sport            0.170   -0.116    0.075   -0.034   -0.053\n",
       "...                ...      ...      ...      ...      ...\n",
       "Politics         0.299    0.296    0.340    0.086    0.097\n",
       "Politics         0.220    0.133    0.073    0.042    0.041\n",
       "Sport            0.124   -0.117    0.066   -0.069   -0.055\n",
       "Entertainment    0.155   -0.073   -0.016    0.068    0.024\n",
       "Politics         0.112    0.012    0.036    0.001    0.016\n",
       "\n",
       "[2175 rows x 5 columns]"
      ]
     },
     "execution_count": 19,
     "metadata": {},
     "output_type": "execute_result"
    }
   ],
   "source": [
    "train_result = pd.DataFrame(data=train_doc_topics,\n",
    "                            columns=topic_labels,\n",
    "                            index=train_docs.Category).round(3)\n",
    "train_result"
   ]
  },
  {
   "cell_type": "code",
   "execution_count": 20,
   "metadata": {},
   "outputs": [
    {
     "data": {
      "text/html": [
       "<div>\n",
       "<style scoped>\n",
       "    .dataframe tbody tr th:only-of-type {\n",
       "        vertical-align: middle;\n",
       "    }\n",
       "\n",
       "    .dataframe tbody tr th {\n",
       "        vertical-align: top;\n",
       "    }\n",
       "\n",
       "    .dataframe thead th {\n",
       "        text-align: right;\n",
       "    }\n",
       "</style>\n",
       "<table border=\"1\" class=\"dataframe\">\n",
       "  <thead>\n",
       "    <tr style=\"text-align: right;\">\n",
       "      <th></th>\n",
       "      <th>Topic 1</th>\n",
       "      <th>Topic 2</th>\n",
       "      <th>Topic 3</th>\n",
       "      <th>Topic 4</th>\n",
       "      <th>Topic 5</th>\n",
       "    </tr>\n",
       "    <tr>\n",
       "      <th>Category</th>\n",
       "      <th></th>\n",
       "      <th></th>\n",
       "      <th></th>\n",
       "      <th></th>\n",
       "      <th></th>\n",
       "    </tr>\n",
       "  </thead>\n",
       "  <tbody>\n",
       "    <tr>\n",
       "      <th>Business</th>\n",
       "      <td>0.184399</td>\n",
       "      <td>0.063000</td>\n",
       "      <td>-0.098301</td>\n",
       "      <td>-0.052076</td>\n",
       "      <td>-0.115868</td>\n",
       "    </tr>\n",
       "    <tr>\n",
       "      <th>Entertainment</th>\n",
       "      <td>0.171029</td>\n",
       "      <td>-0.087944</td>\n",
       "      <td>-0.018432</td>\n",
       "      <td>0.168894</td>\n",
       "      <td>-0.027602</td>\n",
       "    </tr>\n",
       "    <tr>\n",
       "      <th>Politics</th>\n",
       "      <td>0.210610</td>\n",
       "      <td>0.148890</td>\n",
       "      <td>0.114223</td>\n",
       "      <td>0.028426</td>\n",
       "      <td>0.031123</td>\n",
       "    </tr>\n",
       "    <tr>\n",
       "      <th>Sport</th>\n",
       "      <td>0.177140</td>\n",
       "      <td>-0.142371</td>\n",
       "      <td>0.096930</td>\n",
       "      <td>-0.090138</td>\n",
       "      <td>-0.010391</td>\n",
       "    </tr>\n",
       "    <tr>\n",
       "      <th>Tech</th>\n",
       "      <td>0.190135</td>\n",
       "      <td>-0.011464</td>\n",
       "      <td>-0.126054</td>\n",
       "      <td>-0.012138</td>\n",
       "      <td>0.144612</td>\n",
       "    </tr>\n",
       "  </tbody>\n",
       "</table>\n",
       "</div>"
      ],
      "text/plain": [
       "                Topic 1   Topic 2   Topic 3   Topic 4   Topic 5\n",
       "Category                                                       \n",
       "Business       0.184399  0.063000 -0.098301 -0.052076 -0.115868\n",
       "Entertainment  0.171029 -0.087944 -0.018432  0.168894 -0.027602\n",
       "Politics       0.210610  0.148890  0.114223  0.028426  0.031123\n",
       "Sport          0.177140 -0.142371  0.096930 -0.090138 -0.010391\n",
       "Tech           0.190135 -0.011464 -0.126054 -0.012138  0.144612"
      ]
     },
     "execution_count": 20,
     "metadata": {},
     "output_type": "execute_result"
    }
   ],
   "source": [
    "train_result.groupby(level='Category').mean()"
   ]
  },
  {
   "cell_type": "markdown",
   "metadata": {},
   "source": [
    "Topic weights of most frequent words"
   ]
  },
  {
   "cell_type": "code",
   "execution_count": 21,
   "metadata": {},
   "outputs": [
    {
     "data": {
      "text/html": [
       "<div>\n",
       "<style scoped>\n",
       "    .dataframe tbody tr th:only-of-type {\n",
       "        vertical-align: middle;\n",
       "    }\n",
       "\n",
       "    .dataframe tbody tr th {\n",
       "        vertical-align: top;\n",
       "    }\n",
       "\n",
       "    .dataframe thead th {\n",
       "        text-align: right;\n",
       "    }\n",
       "</style>\n",
       "<table border=\"1\" class=\"dataframe\">\n",
       "  <thead>\n",
       "    <tr style=\"text-align: right;\">\n",
       "      <th></th>\n",
       "      <th>Topic 1</th>\n",
       "      <th>Topic 2</th>\n",
       "      <th>Topic 3</th>\n",
       "      <th>Topic 4</th>\n",
       "      <th>Topic 5</th>\n",
       "    </tr>\n",
       "  </thead>\n",
       "  <tbody>\n",
       "    <tr>\n",
       "      <th>film</th>\n",
       "      <td>0.096117</td>\n",
       "      <td>-0.157755</td>\n",
       "      <td>-0.037131</td>\n",
       "      <td>0.456760</td>\n",
       "      <td>-0.108419</td>\n",
       "    </tr>\n",
       "    <tr>\n",
       "      <th>government</th>\n",
       "      <td>0.105821</td>\n",
       "      <td>0.158542</td>\n",
       "      <td>0.050579</td>\n",
       "      <td>0.000476</td>\n",
       "      <td>-0.032035</td>\n",
       "    </tr>\n",
       "    <tr>\n",
       "      <th>game</th>\n",
       "      <td>0.092472</td>\n",
       "      <td>-0.165604</td>\n",
       "      <td>0.074222</td>\n",
       "      <td>-0.112915</td>\n",
       "      <td>0.056594</td>\n",
       "    </tr>\n",
       "    <tr>\n",
       "      <th>best</th>\n",
       "      <td>0.088036</td>\n",
       "      <td>-0.148498</td>\n",
       "      <td>0.019054</td>\n",
       "      <td>0.264735</td>\n",
       "      <td>-0.091923</td>\n",
       "    </tr>\n",
       "    <tr>\n",
       "      <th>uk</th>\n",
       "      <td>0.092431</td>\n",
       "      <td>0.030233</td>\n",
       "      <td>-0.055868</td>\n",
       "      <td>0.041345</td>\n",
       "      <td>0.012776</td>\n",
       "    </tr>\n",
       "    <tr>\n",
       "      <th>labour</th>\n",
       "      <td>0.100164</td>\n",
       "      <td>0.237937</td>\n",
       "      <td>0.227080</td>\n",
       "      <td>0.071624</td>\n",
       "      <td>0.054642</td>\n",
       "    </tr>\n",
       "    <tr>\n",
       "      <th>music</th>\n",
       "      <td>0.078805</td>\n",
       "      <td>-0.050253</td>\n",
       "      <td>-0.114264</td>\n",
       "      <td>0.080930</td>\n",
       "      <td>0.140046</td>\n",
       "    </tr>\n",
       "    <tr>\n",
       "      <th>000</th>\n",
       "      <td>0.073360</td>\n",
       "      <td>0.029985</td>\n",
       "      <td>-0.044699</td>\n",
       "      <td>0.003032</td>\n",
       "      <td>-0.013678</td>\n",
       "    </tr>\n",
       "    <tr>\n",
       "      <th>company</th>\n",
       "      <td>0.067638</td>\n",
       "      <td>0.024084</td>\n",
       "      <td>-0.102071</td>\n",
       "      <td>-0.028465</td>\n",
       "      <td>-0.053378</td>\n",
       "    </tr>\n",
       "    <tr>\n",
       "      <th>number</th>\n",
       "      <td>0.070099</td>\n",
       "      <td>-0.039725</td>\n",
       "      <td>-0.019470</td>\n",
       "      <td>0.030363</td>\n",
       "      <td>0.003596</td>\n",
       "    </tr>\n",
       "  </tbody>\n",
       "</table>\n",
       "</div>"
      ],
      "text/plain": [
       "             Topic 1   Topic 2   Topic 3   Topic 4   Topic 5\n",
       "film        0.096117 -0.157755 -0.037131  0.456760 -0.108419\n",
       "government  0.105821  0.158542  0.050579  0.000476 -0.032035\n",
       "game        0.092472 -0.165604  0.074222 -0.112915  0.056594\n",
       "best        0.088036 -0.148498  0.019054  0.264735 -0.091923\n",
       "uk          0.092431  0.030233 -0.055868  0.041345  0.012776\n",
       "labour      0.100164  0.237937  0.227080  0.071624  0.054642\n",
       "music       0.078805 -0.050253 -0.114264  0.080930  0.140046\n",
       "000         0.073360  0.029985 -0.044699  0.003032 -0.013678\n",
       "company     0.067638  0.024084 -0.102071 -0.028465 -0.053378\n",
       "number      0.070099 -0.039725 -0.019470  0.030363  0.003596"
      ]
     },
     "execution_count": 21,
     "metadata": {},
     "output_type": "execute_result"
    }
   ],
   "source": [
    "topics = pd.DataFrame(svd.components_.T, index=tokens, columns=topic_labels)\n",
    "topics.loc[word_count.head(10).index]"
   ]
  },
  {
   "cell_type": "markdown",
   "metadata": {},
   "source": [
    "Most important words by topic\n",
    "\n",
    "We can also display the words that are most closely associated with each topic (in absolute terms). The topics appear to capture some semantic information but are not clearly differentiated"
   ]
  },
  {
   "cell_type": "code",
   "execution_count": 22,
   "metadata": {},
   "outputs": [
    {
     "data": {
      "image/png": "[encoded data removed]",
      "text/plain": [
       "<Figure size 864x288 with 2 Axes>"
      ]
     },
     "metadata": {},
     "output_type": "display_data"
    }
   ],
   "source": [
    "fig, ax = plt.subplots(figsize=(12, 4))\n",
    "top_words, top_vals = pd.DataFrame(), pd.DataFrame()\n",
    "for topic, words_ in topics.items():\n",
    "    top10 = words_.abs().nlargest(10).index\n",
    "    vals = words_.loc[top10].values\n",
    "    top_vals[topic] = vals\n",
    "    top_words[topic] = top10.tolist()\n",
    "sns.heatmap(pd.DataFrame(top_vals),\n",
    "            annot=top_words,\n",
    "            fmt='',\n",
    "            center=0,\n",
    "            cmap=sns.diverging_palette(0, 255, sep=1, n=256),\n",
    "            ax=ax)\n",
    "ax.set_title('Top Words per Topic')\n",
    "sns.despine()\n",
    "fig.tight_layout()"
   ]
  },
  {
   "cell_type": "markdown",
   "metadata": {},
   "source": [
    "## Strengths and weakness\n",
    "The benefits of LSI include the <i>removal of noise and mitigation of the curse of dimensionality</i>, while also capturing some semantics and performing a clustering of both documents and terms.\n",
    "\n",
    "However, the results of <i>LSI are difficult to interpret because topics are word vectors with both positive and negative entries</i>. In addition, there is no underlying model that would permit the evaluation of fit and provide guidance when selecting the number of dimensions or topics."
   ]
  },
  {
   "cell_type": "markdown",
   "metadata": {},
   "source": []
  }
 ],
 "metadata": {
  "kernelspec": {
   "display_name": "Python 3.9.0 64-bit (system)",
   "language": "python",
   "name": "python3"
  },
  "language_info": {
   "codemirror_mode": {
    "name": "ipython",
    "version": 3
   },
   "file_extension": ".py",
   "mimetype": "text/x-python",
   "name": "python",
   "nbconvert_exporter": "python",
   "pygments_lexer": "ipython3",
   "version": "3.9.0"
  },
  "orig_nbformat": 4,
  "vscode": {
   "interpreter": {
    "hash": "93032f8281799af564556aca423609cf3a87ed085e809385b5a7d239405dda91"
   }
  }
 },
 "nbformat": 4,
 "nbformat_minor": 2
}
