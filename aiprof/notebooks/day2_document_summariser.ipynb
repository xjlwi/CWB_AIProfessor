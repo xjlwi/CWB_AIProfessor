{
 "cells": [
  {
   "cell_type": "markdown",
   "metadata": {},
   "source": [
    "## load spaCy Model and create a document summariser"
   ]
  },
  {
   "cell_type": "code",
   "execution_count": 1,
   "metadata": {},
   "outputs": [],
   "source": [
    "import spacy\n",
    "from collections import Counter\n",
    "from string import punctuation\n",
    "\n",
    "nlp = spacy.load(\"en_core_web_lg\")"
   ]
  },
  {
   "cell_type": "code",
   "execution_count": 2,
   "metadata": {},
   "outputs": [],
   "source": [
    "import pandas as pd\n",
    "import numpy as np\n",
    "import datetime as dt\n",
    "import os"
   ]
  },
  {
   "cell_type": "markdown",
   "metadata": {},
   "source": [
    "### Top Sentence Function\n",
    "source : https://betterprogramming.pub/extractive-text-summarization-using-spacy-in-python-88ab96d1fd97"
   ]
  },
  {
   "cell_type": "code",
   "execution_count": 3,
   "metadata": {},
   "outputs": [],
   "source": [
    "def top_sentence(text, limit):\n",
    "    \"\"\"\n",
    "    Tokenise the text input, and find important keywords.\n",
    "    \n",
    "    Args:\n",
    "        text : str  The input text. Can be short paragraph or a big chunk of text.\n",
    "        limit : int Determines how many sentences to return.\n",
    "    \n",
    "    Returns:\n",
    "        list\n",
    "    \"\"\"\n",
    "    keyword = []\n",
    "    pos_tag = ['PROPN', 'ADJ', 'NOUN', 'VERB']\n",
    "    doc = nlp(text.lower()) #1\n",
    "    for token in doc: #loop over each doc\n",
    "        if(token.text in nlp.Defaults.stop_words or token.text in punctuation):\n",
    "            continue # Ignore the token if it is a stopword or punctuation.\n",
    "        if(token.pos_ in pos_tag):\n",
    "            keyword.append(token.text) #append the token to a list, if it is defined.\n",
    "    \n",
    "    # Normalise the list of keywords.\n",
    "    freq_word = Counter(keyword)\n",
    "    max_freq = Counter(keyword).most_common(1)[0][1]\n",
    "    for w in freq_word:\n",
    "        freq_word[w] = (freq_word[w]/max_freq)\n",
    "        \n",
    "    # sentence strength : importances by identifying occurrence of important keywords and sum of value.\n",
    "    sent_strength={}\n",
    "    for sent in doc.sents: #8\n",
    "        for word in sent: #9  Loop over each word in a sentence based on spaCy’s tokenization\n",
    "            if word.text in freq_word.keys(): #10\n",
    "                if sent in sent_strength.keys():\n",
    "                    sent_strength[sent]+=freq_word[word.text]#11\n",
    "                else:\n",
    "                    sent_strength[sent]=freq_word[word.text]#12\n",
    "    \n",
    "    summary = []\n",
    "    \n",
    "    sorted_x = sorted(sent_strength.items(), key=lambda kv: kv[1], reverse=True)\n",
    "    \n",
    "    counter = 0\n",
    "    for i in range(len(sorted_x)):\n",
    "        summary.append(str(sorted_x[i][0]).capitalize())\n",
    "\n",
    "        counter += 1\n",
    "        if(counter >= limit): #This determines how many sentences are to be returned from the function.\n",
    "            break\n",
    "            \n",
    "    return ' '.join(summary)  "
   ]
  },
  {
   "cell_type": "markdown",
   "metadata": {},
   "source": [
    "Test the sentence summariser"
   ]
  },
  {
   "cell_type": "code",
   "execution_count": 4,
   "metadata": {},
   "outputs": [
    {
     "data": {
      "text/html": [
       "<div>\n",
       "<style scoped>\n",
       "    .dataframe tbody tr th:only-of-type {\n",
       "        vertical-align: middle;\n",
       "    }\n",
       "\n",
       "    .dataframe tbody tr th {\n",
       "        vertical-align: top;\n",
       "    }\n",
       "\n",
       "    .dataframe thead th {\n",
       "        text-align: right;\n",
       "    }\n",
       "</style>\n",
       "<table border=\"1\" class=\"dataframe\">\n",
       "  <thead>\n",
       "    <tr style=\"text-align: right;\">\n",
       "      <th></th>\n",
       "      <th>label</th>\n",
       "      <th>text</th>\n",
       "    </tr>\n",
       "  </thead>\n",
       "  <tbody>\n",
       "    <tr>\n",
       "      <th>0</th>\n",
       "      <td>business</td>\n",
       "      <td>Ad sales boost Time Warner profit\\n\\nQuarterly...</td>\n",
       "    </tr>\n",
       "    <tr>\n",
       "      <th>1</th>\n",
       "      <td>business</td>\n",
       "      <td>Dollar gains on Greenspan speech\\n\\nThe dollar...</td>\n",
       "    </tr>\n",
       "    <tr>\n",
       "      <th>2</th>\n",
       "      <td>business</td>\n",
       "      <td>Yukos unit buyer faces loan claim\\n\\nThe owner...</td>\n",
       "    </tr>\n",
       "    <tr>\n",
       "      <th>3</th>\n",
       "      <td>business</td>\n",
       "      <td>High fuel prices hit BA's profits\\n\\nBritish A...</td>\n",
       "    </tr>\n",
       "    <tr>\n",
       "      <th>4</th>\n",
       "      <td>business</td>\n",
       "      <td>Pernod takeover talk lifts Domecq\\n\\nShares in...</td>\n",
       "    </tr>\n",
       "  </tbody>\n",
       "</table>\n",
       "</div>"
      ],
      "text/plain": [
       "      label                                               text\n",
       "0  business  Ad sales boost Time Warner profit\\n\\nQuarterly...\n",
       "1  business  Dollar gains on Greenspan speech\\n\\nThe dollar...\n",
       "2  business  Yukos unit buyer faces loan claim\\n\\nThe owner...\n",
       "3  business  High fuel prices hit BA's profits\\n\\nBritish A...\n",
       "4  business  Pernod takeover talk lifts Domecq\\n\\nShares in..."
      ]
     },
     "execution_count": 4,
     "metadata": {},
     "output_type": "execute_result"
    }
   ],
   "source": [
    "all_texts = pd.read_csv('../data/02_intermediate/all_text_labels.csv')\n",
    "all_texts = all_texts.drop(['Unnamed: 0'], axis=1)\n",
    "all_texts.head()"
   ]
  },
  {
   "cell_type": "code",
   "execution_count": 5,
   "metadata": {},
   "outputs": [
    {
     "name": "stdout",
     "output_type": "stream",
     "text": [
      "Fiat mulls ferrari market listing\n",
      "\n",
      "ferrari could be listed on the stock market as part of an overhaul of fiat's carmaking operations, the financial times has reported. \n",
      "\n",
      "it said fiat was set to restructure its business after reaching a $2bn (1.53bn euros; â£1.05bn) settlement with gm about fiat's ownership. The financial times said fiat may transfer maserati within its wholly- owned alfa romeo division in an effort to exploit commercial synergies. Fiat owns a 56% stake in ferrari -best known for its dominant formula one motor racing team - having first bought into the business in 1969. Steps being considered include listing ferrari and bringing maserati and alfa romeo closer together, it said.\n"
     ]
    }
   ],
   "source": [
    "example_text = all_texts.iloc[50]['text']\n",
    "print(top_sentence(example_text, 5))"
   ]
  },
  {
   "cell_type": "code",
   "execution_count": 6,
   "metadata": {},
   "outputs": [
    {
     "data": {
      "text/plain": [
       "\"Fiat mulls Ferrari market listing\\n\\nFerrari could be listed on the stock market as part of an overhaul of Fiat's carmaking operations, the Financial Times has reported.\\n\\nIt said Fiat was set to restructure its business after reaching a $2bn (1.53bn euros; Â£1.05bn) settlement with GM about Fiat's ownership. Steps being considered include listing Ferrari and bringing Maserati and Alfa Romeo closer together, it said. Despite strong sales of Alfa Romeo, Fiat's car business is making a loss.\\n\\nUnder the proposals - which the paper said could be announced within days - the iconic sportscar maker could be listed separately on the market. Fiat owns a 56% stake in Ferrari -best known for its dominant Formula One motor racing team - having first bought into the business in 1969. It considered floating Ferrari in 2002 but opted to sell a minority stake to Italian bank Mediobanca for 775m euros ($1bn). That sale valued Ferrari - which owns the Maserati brand - at 2.3bn euros. The price tag would change if Maserati was stripped out. The Financial Times said Fiat may transfer Maserati within its wholly- owned Alfa Romeo division in an effort to exploit commercial synergies. Such a move would help Alfa Romeo and Maserati to share marketing, distribution and research & development costs. Maserati and Ferrari sell about 10,000 cars between them and both companies broke even in 2003.\\n\\nFiat, Italy's largest private sector employer, did not comment on the reported changes. Fiat recently negotiated an end to its alliance with General Motors. The US firm agreed to pay $2bn to exit an agreement under which it could have been liable to buy Fiat outright. Analysts said the reported restructuring was evidence of the greater flexibility which Fiat now had to develop the business.\\n\""
      ]
     },
     "execution_count": 6,
     "metadata": {},
     "output_type": "execute_result"
    }
   ],
   "source": [
    "example_text"
   ]
  },
  {
   "cell_type": "markdown",
   "metadata": {},
   "source": [
    "## Using Transformers from hugging face\n",
    "\n",
    "Hugging Face provides thousands of pre-trained models to perform tasks on texts such as classification, information extraction, question answering, summarization, translation, text generation, and more in over 100 languages."
   ]
  },
  {
   "cell_type": "markdown",
   "metadata": {},
   "source": [
    "Using Gradio with Hugging Face\n",
    "To create our app, we will be using Gradio, which allows us to create a UI for our Hugging Face model easily."
   ]
  },
  {
   "cell_type": "markdown",
   "metadata": {},
   "source": [
    "Reference : https://medium.com/bitgrit-data-science-publication/build-a-news-article-summarizer-app-with-hugging-face-and-gradio-99d173428204"
   ]
  },
  {
   "cell_type": "code",
   "execution_count": 9,
   "metadata": {},
   "outputs": [],
   "source": [
    "from transformers import pipeline\n",
    "import gradio as gr\n",
    "from gradio.mix import Parallel, Series\n",
    "import warnings\n",
    "warnings.filterwarnings(\"ignore\")"
   ]
  },
  {
   "cell_type": "code",
   "execution_count": 10,
   "metadata": {},
   "outputs": [
    {
     "name": "stdout",
     "output_type": "stream",
     "text": [
      "Fetching model from: https://huggingface.co/sshleifer/distilbart-cnn-12-6\n",
      "Fetching model from: https://huggingface.co/facebook/bart-large-cnn\n",
      "Fetching model from: https://huggingface.co/google/pegasus-xsum\n",
      "Fetching model from: https://huggingface.co/sshleifer/distilbart-cnn-6-6\n"
     ]
    }
   ],
   "source": [
    "# select Summariser Models that are top downloaded.Initialise the parallel interface\n",
    "\n",
    "os.environ[\"CURL_CA_BUNDLE\"]=\"\"\n",
    "\n",
    "io1 = gr.Interface.load('huggingface/sshleifer/distilbart-cnn-12-6')\n",
    "io2 = gr.Interface.load(\"huggingface/facebook/bart-large-cnn\")\n",
    "io3 = gr.Interface.load(\"huggingface/google/pegasus-xsum\")  \n",
    "io4 = gr.Interface.load(\"huggingface/sshleifer/distilbart-cnn-6-6\")                   \n"
   ]
  },
  {
   "cell_type": "code",
   "execution_count": 11,
   "metadata": {},
   "outputs": [
    {
     "name": "stdout",
     "output_type": "stream",
     "text": [
      "Running on local URL:  http://127.0.0.1:7860/\n",
      "Running on public URL: https://43943.gradio.app\n",
      "\n",
      "This share link expires in 72 hours. For free permanent hosting, check out Spaces (https://www.huggingface.co/spaces)\n"
     ]
    },
    {
     "data": {
      "text/html": [
       "\n",
       "        <iframe\n",
       "            width=\"900\"\n",
       "            height=\"500\"\n",
       "            src=\"https://43943.gradio.app\"\n",
       "            frameborder=\"0\"\n",
       "            allowfullscreen\n",
       "        ></iframe>\n",
       "        "
      ],
      "text/plain": [
       "<IPython.lib.display.IFrame at 0x1f480d92160>"
      ]
     },
     "metadata": {},
     "output_type": "display_data"
    },
    {
     "data": {
      "text/plain": [
       "(<fastapi.applications.FastAPI at 0x1f480639940>,\n",
       " 'http://127.0.0.1:7860/',\n",
       " 'https://43943.gradio.app')"
      ]
     },
     "execution_count": 11,
     "metadata": {},
     "output_type": "execute_result"
    }
   ],
   "source": [
    "iface = Parallel(io1, io2, io3, io4,\n",
    "                 theme='huggingface', \n",
    "                 inputs = gr.inputs.Textbox(lines = 10, label=\"Text\"))\n",
    "\n",
    "iface.launch(share=True)"
   ]
  },
  {
   "cell_type": "code",
   "execution_count": null,
   "metadata": {},
   "outputs": [],
   "source": []
  }
 ],
 "metadata": {
  "interpreter": {
   "hash": "cfb64e94590a84ac1c013de56654628e36f564001618a7025de8c4fbe59cc576"
  },
  "kernelspec": {
   "display_name": "Python 3.9.0 64-bit (system)",
   "language": "python",
   "name": "python3"
  },
  "language_info": {
   "codemirror_mode": {
    "name": "ipython",
    "version": 3
   },
   "file_extension": ".py",
   "mimetype": "text/x-python",
   "name": "python",
   "nbconvert_exporter": "python",
   "pygments_lexer": "ipython3",
   "version": "3.9.0"
  },
  "orig_nbformat": 4
 },
 "nbformat": 4,
 "nbformat_minor": 2
}
